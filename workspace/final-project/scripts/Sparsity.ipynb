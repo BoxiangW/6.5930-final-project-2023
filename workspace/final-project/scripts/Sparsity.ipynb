{
 "cells": [
  {
   "cell_type": "code",
   "execution_count": 1,
   "id": "995bea41",
   "metadata": {},
   "outputs": [
    {
     "name": "stderr",
     "output_type": "stream",
     "text": [
      "/home/workspace/.local/lib/python3.8/site-packages/torchvision/io/image.py:13: UserWarning: Failed to load image Python extension: \n",
      "  warn(f\"Failed to load image Python extension: {e}\")\n"
     ]
    }
   ],
   "source": [
    "# some basic imports and setups\n",
    "import numpy as np\n",
    "import torch\n",
    "import torch.nn as nn\n",
    "import torch.nn.functional as F\n",
    "import torchvision\n",
    "import torchvision.models as models\n",
    "import matplotlib.pyplot as plt\n",
    "%matplotlib inline\n",
    "import urllib\n",
    "from PIL import Image\n",
    "from torchvision import transforms"
   ]
  },
  {
   "cell_type": "code",
   "execution_count": 54,
   "id": "38d4e8df",
   "metadata": {},
   "outputs": [],
   "source": [
    "#load model - AlexNet\n",
    "from torch.utils.model_zoo import load_url as load_state_dict_from_url\n",
    "model_url = 'https://download.pytorch.org/models/alexnet-owt-4df8aa71.pth'\n",
    "\n",
    "class AlexNet_custom(nn.Module):\n",
    "\n",
    "    def __init__(self, num_classes=1000):\n",
    "        super(AlexNet_custom, self).__init__()\n",
    "        self.features = nn.Sequential(\n",
    "            nn.Conv2d(3, 64, kernel_size=11, stride=4, padding=2),\n",
    "            nn.ReLU(inplace=True),\n",
    "            nn.MaxPool2d(kernel_size=3, stride=2),\n",
    "            nn.Conv2d(64, 192, kernel_size=5, padding=2),\n",
    "            nn.ReLU(inplace=True),\n",
    "            nn.MaxPool2d(kernel_size=3, stride=2),\n",
    "            nn.Conv2d(192, 384, kernel_size=3, padding=1),\n",
    "            nn.ReLU(inplace=True),\n",
    "            nn.Conv2d(384, 256, kernel_size=3, padding=1),\n",
    "            nn.ReLU(inplace=True),\n",
    "            nn.Conv2d(256, 256, kernel_size=3, padding=1),\n",
    "            nn.ReLU(inplace=True),\n",
    "            nn.MaxPool2d(kernel_size=3, stride=2),\n",
    "        )\n",
    "        self.avgpool = nn.AdaptiveAvgPool2d((6, 6)) # in case input image is larger\n",
    "        self.classifier = nn.Sequential(\n",
    "            nn.Dropout(),\n",
    "            nn.Linear(256 * 6 * 6, 4096),\n",
    "            nn.ReLU(inplace=True),\n",
    "            nn.Dropout(),\n",
    "            nn.Linear(4096, 4096),\n",
    "            nn.ReLU(inplace=True),\n",
    "            nn.Linear(4096, num_classes)\n",
    "        )\n",
    "\n",
    "    def forward(self, x):\n",
    "        x = self.features(x)\n",
    "        x = self.avgpool(x)\n",
    "        x = x.view(x.size(0), 256 * 6 * 6)\n",
    "        x = self.classifier(x)\n",
    "        return x\n",
    "\n",
    "# load pretrained weights\n",
    "def alexnet_custom(path = \"model_weights/pretrained_AlexNet.pt\", pretrained=True, progress=True, **kwargs):\n",
    "    model = AlexNet_custom(**kwargs)\n",
    "    net = torch.jit.load(path)\n",
    "    params = net.state_dict()\n",
    "#     state_dict = load_state_dict_from_url(model_url, progress=progress)\n",
    "#     model.load_state_dict(state_dict)\n",
    "    model.load_state_dict(params)\n",
    "    return model\n",
    "\n",
    "net = alexnet_custom(path = \"model_weights/finetuned_AlexNet.pt\") #pretrained on ImageNet - 1000 classes\n"
   ]
  },
  {
   "cell_type": "code",
   "execution_count": 37,
   "id": "f9abe2c3",
   "metadata": {},
   "outputs": [],
   "source": [
    "def get_min_max(net):\n",
    "    state_dict = net.state_dict()\n",
    "    weights = list(state_dict.values())\n",
    "    mini=0; maxi=0\n",
    "    for i in weights:\n",
    "        if torch.min(i)<mini:\n",
    "            mini=torch.min(i)\n",
    "        if torch.max(i)>maxi:\n",
    "            maxi=torch.max(i)\n",
    "    return (mini, maxi)"
   ]
  },
  {
   "cell_type": "code",
   "execution_count": 45,
   "id": "d7fd0a15",
   "metadata": {},
   "outputs": [],
   "source": [
    "def get_threshold(p,mini,maxi):\n",
    "    k = np.arange(mini, maxi, 0.001)\n",
    "    return np.quantile(k, p)\n",
    "    "
   ]
  },
  {
   "cell_type": "code",
   "execution_count": 47,
   "id": "5240e564",
   "metadata": {},
   "outputs": [],
   "source": [
    "def magnitude_sparsity(net, thr):\n",
    "    sd = net.state_dict()\n",
    "    thr = -1.506125\n",
    "    for k in sd.keys():\n",
    "        w = sd[k]\n",
    "        sd[k] = w * (w > thr)\n",
    "    net.load_state_dict(sd)\n",
    "    return net"
   ]
  },
  {
   "cell_type": "code",
   "execution_count": 62,
   "id": "73ed78b3",
   "metadata": {},
   "outputs": [],
   "source": [
    "def random_sparsity(net, prob):\n",
    "    sd = net.state_dict()\n",
    "    val = np.random.choice(2, 1, p=[prob, 1-prob])\n",
    "    for k in sd.keys():\n",
    "        w = sd[k]\n",
    "        sd[k] = w * val\n",
    "    net.load_state_dict(sd)\n",
    "    return net"
   ]
  },
  {
   "cell_type": "code",
   "execution_count": 63,
   "id": "a44e3a5d",
   "metadata": {},
   "outputs": [],
   "source": [
    "get_min_max(net)\n",
    "get_threshold(0.15,mini,maxi)\n",
    "net = magnitude_sparsity(net, thr)"
   ]
  },
  {
   "cell_type": "code",
   "execution_count": 66,
   "id": "dc655e99",
   "metadata": {},
   "outputs": [],
   "source": [
    "net = random_sparsity(net, 0.15)"
   ]
  },
  {
   "cell_type": "code",
   "execution_count": 67,
   "id": "5bb06d39",
   "metadata": {},
   "outputs": [
    {
     "name": "stdout",
     "output_type": "stream",
     "text": [
      "Files already downloaded and verified\n",
      "Accuracy of the network on the 1000 test images: 58.22 %\n"
     ]
    }
   ],
   "source": [
    "#Evaluate\n",
    "transform = transforms.Compose([\n",
    "    transforms.Resize(256),\n",
    "    transforms.CenterCrop(224),\n",
    "    transforms.ToTensor(),\n",
    "    transforms.Normalize(mean=[0.485, 0.456, 0.406], std=[0.229, 0.224, 0.225]),\n",
    "])\n",
    "test_data = torchvision.datasets.CIFAR10(root='./data', train=False, download=True, transform=transform)\n",
    "testloader = torch.utils.data.DataLoader(test_data, batch_size=4, shuffle=True, num_workers=2)\n",
    "\n",
    "classes = ('Airplane', 'Car', 'Bird', 'Cat', 'Deer', 'Dog', 'Frog', 'Horse', 'Ship', 'Truck')\n",
    "\n",
    "correct = 0\n",
    "total = 0\n",
    "with torch.no_grad():\n",
    "    for i, data in enumerate(testloader, 0):    #test on 1000 images\n",
    "        outputs = net(data[0])\n",
    "        _, predicted = torch.max(outputs.data, 1)\n",
    "        total += data[1].size(0)\n",
    "        correct += (predicted == data[1]).sum().item()\n",
    "        if i==1000:\n",
    "            break\n",
    "print('Accuracy of the network on the 1000 test images: %.2f %%' % (100 * correct / total))"
   ]
  },
  {
   "cell_type": "code",
   "execution_count": null,
   "id": "1284d934",
   "metadata": {},
   "outputs": [],
   "source": [
    "model_scripted = torch.jit.script(net) # Export to TorchScript\n",
    "model_scripted.save('./model_weights/sparse_AlexNet.pt')"
   ]
  }
 ],
 "metadata": {
  "kernelspec": {
   "display_name": "Python 3 (ipykernel)",
   "language": "python",
   "name": "python3"
  },
  "language_info": {
   "codemirror_mode": {
    "name": "ipython",
    "version": 3
   },
   "file_extension": ".py",
   "mimetype": "text/x-python",
   "name": "python",
   "nbconvert_exporter": "python",
   "pygments_lexer": "ipython3",
   "version": "3.8.10"
  }
 },
 "nbformat": 4,
 "nbformat_minor": 5
}
